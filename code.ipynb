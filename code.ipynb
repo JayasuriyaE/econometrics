{
 "cells": [
  {
   "cell_type": "code",
   "execution_count": 19,
   "metadata": {
    "collapsed": true
   },
   "outputs": [],
   "source": [
    "import pandas as pd\n",
    "data = pd.read_csv('data/african_crises.csv')\n"
   ]
  },
  {
   "cell_type": "code",
   "execution_count": 20,
   "outputs": [
    {
     "data": {
      "text/plain": "      case  cc3   country  year  systemic_crisis    exch_usd  \\\n0        1  DZA   Algeria  1870                1    0.052264   \n1        1  DZA   Algeria  1871                0    0.052798   \n2        1  DZA   Algeria  1872                0    0.052274   \n3        1  DZA   Algeria  1873                0    0.051680   \n4        1  DZA   Algeria  1874                0    0.051308   \n...    ...  ...       ...   ...              ...         ...   \n1054    70  ZWE  Zimbabwe  2009                1  354.800000   \n1055    70  ZWE  Zimbabwe  2010                0  378.200000   \n1056    70  ZWE  Zimbabwe  2011                0  361.900000   \n1057    70  ZWE  Zimbabwe  2012                0  361.900000   \n1058    70  ZWE  Zimbabwe  2013                0  361.900000   \n\n      domestic_debt_in_default  sovereign_external_debt_default  \\\n0                            0                                0   \n1                            0                                0   \n2                            0                                0   \n3                            0                                0   \n4                            0                                0   \n...                        ...                              ...   \n1054                         1                                1   \n1055                         1                                1   \n1056                         1                                1   \n1057                         1                                1   \n1058                         1                                1   \n\n      gdp_weighted_default  inflation_annual_cpi  independence  \\\n0                      0.0              3.441456             0   \n1                      0.0             14.149140             0   \n2                      0.0             -3.718593             0   \n3                      0.0             11.203897             0   \n4                      0.0             -3.848561             0   \n...                    ...                   ...           ...   \n1054                   0.0             -7.670000             1   \n1055                   0.0              3.217000             1   \n1056                   0.0              4.920000             1   \n1057                   0.0              3.720000             1   \n1058                   0.0              1.632000             1   \n\n      currency_crises  inflation_crises banking_crisis  \n0                   0                 0         crisis  \n1                   0                 0      no_crisis  \n2                   0                 0      no_crisis  \n3                   0                 0      no_crisis  \n4                   0                 0      no_crisis  \n...               ...               ...            ...  \n1054                1                 0         crisis  \n1055                0                 0      no_crisis  \n1056                0                 0      no_crisis  \n1057                0                 0      no_crisis  \n1058                0                 0      no_crisis  \n\n[1059 rows x 14 columns]",
      "text/html": "<div>\n<style scoped>\n    .dataframe tbody tr th:only-of-type {\n        vertical-align: middle;\n    }\n\n    .dataframe tbody tr th {\n        vertical-align: top;\n    }\n\n    .dataframe thead th {\n        text-align: right;\n    }\n</style>\n<table border=\"1\" class=\"dataframe\">\n  <thead>\n    <tr style=\"text-align: right;\">\n      <th></th>\n      <th>case</th>\n      <th>cc3</th>\n      <th>country</th>\n      <th>year</th>\n      <th>systemic_crisis</th>\n      <th>exch_usd</th>\n      <th>domestic_debt_in_default</th>\n      <th>sovereign_external_debt_default</th>\n      <th>gdp_weighted_default</th>\n      <th>inflation_annual_cpi</th>\n      <th>independence</th>\n      <th>currency_crises</th>\n      <th>inflation_crises</th>\n      <th>banking_crisis</th>\n    </tr>\n  </thead>\n  <tbody>\n    <tr>\n      <th>0</th>\n      <td>1</td>\n      <td>DZA</td>\n      <td>Algeria</td>\n      <td>1870</td>\n      <td>1</td>\n      <td>0.052264</td>\n      <td>0</td>\n      <td>0</td>\n      <td>0.0</td>\n      <td>3.441456</td>\n      <td>0</td>\n      <td>0</td>\n      <td>0</td>\n      <td>crisis</td>\n    </tr>\n    <tr>\n      <th>1</th>\n      <td>1</td>\n      <td>DZA</td>\n      <td>Algeria</td>\n      <td>1871</td>\n      <td>0</td>\n      <td>0.052798</td>\n      <td>0</td>\n      <td>0</td>\n      <td>0.0</td>\n      <td>14.149140</td>\n      <td>0</td>\n      <td>0</td>\n      <td>0</td>\n      <td>no_crisis</td>\n    </tr>\n    <tr>\n      <th>2</th>\n      <td>1</td>\n      <td>DZA</td>\n      <td>Algeria</td>\n      <td>1872</td>\n      <td>0</td>\n      <td>0.052274</td>\n      <td>0</td>\n      <td>0</td>\n      <td>0.0</td>\n      <td>-3.718593</td>\n      <td>0</td>\n      <td>0</td>\n      <td>0</td>\n      <td>no_crisis</td>\n    </tr>\n    <tr>\n      <th>3</th>\n      <td>1</td>\n      <td>DZA</td>\n      <td>Algeria</td>\n      <td>1873</td>\n      <td>0</td>\n      <td>0.051680</td>\n      <td>0</td>\n      <td>0</td>\n      <td>0.0</td>\n      <td>11.203897</td>\n      <td>0</td>\n      <td>0</td>\n      <td>0</td>\n      <td>no_crisis</td>\n    </tr>\n    <tr>\n      <th>4</th>\n      <td>1</td>\n      <td>DZA</td>\n      <td>Algeria</td>\n      <td>1874</td>\n      <td>0</td>\n      <td>0.051308</td>\n      <td>0</td>\n      <td>0</td>\n      <td>0.0</td>\n      <td>-3.848561</td>\n      <td>0</td>\n      <td>0</td>\n      <td>0</td>\n      <td>no_crisis</td>\n    </tr>\n    <tr>\n      <th>...</th>\n      <td>...</td>\n      <td>...</td>\n      <td>...</td>\n      <td>...</td>\n      <td>...</td>\n      <td>...</td>\n      <td>...</td>\n      <td>...</td>\n      <td>...</td>\n      <td>...</td>\n      <td>...</td>\n      <td>...</td>\n      <td>...</td>\n      <td>...</td>\n    </tr>\n    <tr>\n      <th>1054</th>\n      <td>70</td>\n      <td>ZWE</td>\n      <td>Zimbabwe</td>\n      <td>2009</td>\n      <td>1</td>\n      <td>354.800000</td>\n      <td>1</td>\n      <td>1</td>\n      <td>0.0</td>\n      <td>-7.670000</td>\n      <td>1</td>\n      <td>1</td>\n      <td>0</td>\n      <td>crisis</td>\n    </tr>\n    <tr>\n      <th>1055</th>\n      <td>70</td>\n      <td>ZWE</td>\n      <td>Zimbabwe</td>\n      <td>2010</td>\n      <td>0</td>\n      <td>378.200000</td>\n      <td>1</td>\n      <td>1</td>\n      <td>0.0</td>\n      <td>3.217000</td>\n      <td>1</td>\n      <td>0</td>\n      <td>0</td>\n      <td>no_crisis</td>\n    </tr>\n    <tr>\n      <th>1056</th>\n      <td>70</td>\n      <td>ZWE</td>\n      <td>Zimbabwe</td>\n      <td>2011</td>\n      <td>0</td>\n      <td>361.900000</td>\n      <td>1</td>\n      <td>1</td>\n      <td>0.0</td>\n      <td>4.920000</td>\n      <td>1</td>\n      <td>0</td>\n      <td>0</td>\n      <td>no_crisis</td>\n    </tr>\n    <tr>\n      <th>1057</th>\n      <td>70</td>\n      <td>ZWE</td>\n      <td>Zimbabwe</td>\n      <td>2012</td>\n      <td>0</td>\n      <td>361.900000</td>\n      <td>1</td>\n      <td>1</td>\n      <td>0.0</td>\n      <td>3.720000</td>\n      <td>1</td>\n      <td>0</td>\n      <td>0</td>\n      <td>no_crisis</td>\n    </tr>\n    <tr>\n      <th>1058</th>\n      <td>70</td>\n      <td>ZWE</td>\n      <td>Zimbabwe</td>\n      <td>2013</td>\n      <td>0</td>\n      <td>361.900000</td>\n      <td>1</td>\n      <td>1</td>\n      <td>0.0</td>\n      <td>1.632000</td>\n      <td>1</td>\n      <td>0</td>\n      <td>0</td>\n      <td>no_crisis</td>\n    </tr>\n  </tbody>\n</table>\n<p>1059 rows × 14 columns</p>\n</div>"
     },
     "execution_count": 20,
     "metadata": {},
     "output_type": "execute_result"
    }
   ],
   "source": [
    "data\n"
   ],
   "metadata": {
    "collapsed": false,
    "pycharm": {
     "name": "#%%\n"
    }
   }
  },
  {
   "cell_type": "code",
   "execution_count": 21,
   "outputs": [
    {
     "data": {
      "text/plain": "<bound method NDFrame.describe of       case  cc3   country  year  systemic_crisis    exch_usd  \\\n0        1  DZA   Algeria  1870                1    0.052264   \n1        1  DZA   Algeria  1871                0    0.052798   \n2        1  DZA   Algeria  1872                0    0.052274   \n3        1  DZA   Algeria  1873                0    0.051680   \n4        1  DZA   Algeria  1874                0    0.051308   \n...    ...  ...       ...   ...              ...         ...   \n1054    70  ZWE  Zimbabwe  2009                1  354.800000   \n1055    70  ZWE  Zimbabwe  2010                0  378.200000   \n1056    70  ZWE  Zimbabwe  2011                0  361.900000   \n1057    70  ZWE  Zimbabwe  2012                0  361.900000   \n1058    70  ZWE  Zimbabwe  2013                0  361.900000   \n\n      domestic_debt_in_default  sovereign_external_debt_default  \\\n0                            0                                0   \n1                            0                                0   \n2                            0                                0   \n3                            0                                0   \n4                            0                                0   \n...                        ...                              ...   \n1054                         1                                1   \n1055                         1                                1   \n1056                         1                                1   \n1057                         1                                1   \n1058                         1                                1   \n\n      gdp_weighted_default  inflation_annual_cpi  independence  \\\n0                      0.0              3.441456             0   \n1                      0.0             14.149140             0   \n2                      0.0             -3.718593             0   \n3                      0.0             11.203897             0   \n4                      0.0             -3.848561             0   \n...                    ...                   ...           ...   \n1054                   0.0             -7.670000             1   \n1055                   0.0              3.217000             1   \n1056                   0.0              4.920000             1   \n1057                   0.0              3.720000             1   \n1058                   0.0              1.632000             1   \n\n      currency_crises  inflation_crises banking_crisis  \n0                   0                 0         crisis  \n1                   0                 0      no_crisis  \n2                   0                 0      no_crisis  \n3                   0                 0      no_crisis  \n4                   0                 0      no_crisis  \n...               ...               ...            ...  \n1054                1                 0         crisis  \n1055                0                 0      no_crisis  \n1056                0                 0      no_crisis  \n1057                0                 0      no_crisis  \n1058                0                 0      no_crisis  \n\n[1059 rows x 14 columns]>"
     },
     "execution_count": 21,
     "metadata": {},
     "output_type": "execute_result"
    }
   ],
   "source": [
    "data.describe"
   ],
   "metadata": {
    "collapsed": false,
    "pycharm": {
     "name": "#%%\n"
    }
   }
  },
  {
   "cell_type": "code",
   "execution_count": 22,
   "outputs": [
    {
     "data": {
      "text/plain": "Index(['case', 'cc3', 'country', 'year', 'systemic_crisis', 'exch_usd',\n       'domestic_debt_in_default', 'sovereign_external_debt_default',\n       'gdp_weighted_default', 'inflation_annual_cpi', 'independence',\n       'currency_crises', 'inflation_crises', 'banking_crisis'],\n      dtype='object')"
     },
     "execution_count": 22,
     "metadata": {},
     "output_type": "execute_result"
    }
   ],
   "source": [
    "data.columns\n"
   ],
   "metadata": {
    "collapsed": false,
    "pycharm": {
     "name": "#%%\n"
    }
   }
  },
  {
   "cell_type": "code",
   "execution_count": 23,
   "outputs": [
    {
     "data": {
      "text/plain": "no_crisis    965\ncrisis        94\nName: banking_crisis, dtype: int64"
     },
     "execution_count": 23,
     "metadata": {},
     "output_type": "execute_result"
    }
   ],
   "source": [
    "data['banking_crisis'].value_counts()\n"
   ],
   "metadata": {
    "collapsed": false,
    "pycharm": {
     "name": "#%%\n"
    }
   }
  },
  {
   "cell_type": "code",
   "execution_count": 24,
   "outputs": [
    {
     "name": "stdout",
     "output_type": "stream",
     "text": [
      "<class 'pandas.core.frame.DataFrame'>\n",
      "RangeIndex: 1059 entries, 0 to 1058\n",
      "Data columns (total 14 columns):\n",
      " #   Column                           Non-Null Count  Dtype  \n",
      "---  ------                           --------------  -----  \n",
      " 0   case                             1059 non-null   int64  \n",
      " 1   cc3                              1059 non-null   object \n",
      " 2   country                          1059 non-null   object \n",
      " 3   year                             1059 non-null   int64  \n",
      " 4   systemic_crisis                  1059 non-null   int64  \n",
      " 5   exch_usd                         1059 non-null   float64\n",
      " 6   domestic_debt_in_default         1059 non-null   int64  \n",
      " 7   sovereign_external_debt_default  1059 non-null   int64  \n",
      " 8   gdp_weighted_default             1059 non-null   float64\n",
      " 9   inflation_annual_cpi             1059 non-null   float64\n",
      " 10  independence                     1059 non-null   int64  \n",
      " 11  currency_crises                  1059 non-null   int64  \n",
      " 12  inflation_crises                 1059 non-null   int64  \n",
      " 13  banking_crisis                   1059 non-null   object \n",
      "dtypes: float64(3), int64(8), object(3)\n",
      "memory usage: 116.0+ KB\n"
     ]
    }
   ],
   "source": [
    "data.info()\n"
   ],
   "metadata": {
    "collapsed": false,
    "pycharm": {
     "name": "#%%\n"
    }
   }
  },
  {
   "cell_type": "code",
   "execution_count": 25,
   "outputs": [
    {
     "data": {
      "text/plain": "case                               0\ncc3                                0\ncountry                            0\nyear                               0\nsystemic_crisis                    0\nexch_usd                           0\ndomestic_debt_in_default           0\nsovereign_external_debt_default    0\ngdp_weighted_default               0\ninflation_annual_cpi               0\nindependence                       0\ncurrency_crises                    0\ninflation_crises                   0\nbanking_crisis                     0\ndtype: int64"
     },
     "execution_count": 25,
     "metadata": {},
     "output_type": "execute_result"
    }
   ],
   "source": [
    "pd.isnull(data).sum()\n"
   ],
   "metadata": {
    "collapsed": false,
    "pycharm": {
     "name": "#%%\n"
    }
   }
  },
  {
   "cell_type": "code",
   "execution_count": 26,
   "outputs": [
    {
     "data": {
      "text/plain": "                                     case      year  systemic_crisis  \\\ncase                             1.000000  0.115574         0.010991   \nyear                             0.115574  1.000000         0.197450   \nsystemic_crisis                  0.010991  0.197450         1.000000   \nexch_usd                        -0.231976  0.248757         0.202687   \ndomestic_debt_in_default         0.128358  0.136828         0.122158   \nsovereign_external_debt_default -0.039262  0.271890         0.249850   \ngdp_weighted_default            -0.032981 -0.054670         0.005274   \ninflation_annual_cpi             0.044762  0.037035         0.106452   \nindependence                     0.021858  0.407360         0.147083   \ncurrency_crises                  0.095339  0.189390         0.112751   \ninflation_crises                 0.006405  0.098630         0.172562   \n\n                                 exch_usd  domestic_debt_in_default  \\\ncase                            -0.231976                  0.128358   \nyear                             0.248757                  0.136828   \nsystemic_crisis                  0.202687                  0.122158   \nexch_usd                         1.000000                  0.005253   \ndomestic_debt_in_default         0.005253                  1.000000   \nsovereign_external_debt_default  0.422890                  0.464751   \ngdp_weighted_default            -0.040726                 -0.029874   \ninflation_annual_cpi            -0.011947                  0.151832   \nindependence                     0.126034                  0.109120   \ncurrency_crises                 -0.056472                  0.227585   \ninflation_crises                -0.063783                  0.224429   \n\n                                 sovereign_external_debt_default  \\\ncase                                                   -0.039262   \nyear                                                    0.271890   \nsystemic_crisis                                         0.249850   \nexch_usd                                                0.422890   \ndomestic_debt_in_default                                0.464751   \nsovereign_external_debt_default                         1.000000   \ngdp_weighted_default                                    0.345919   \ninflation_annual_cpi                                    0.072609   \nindependence                                            0.228192   \ncurrency_crises                                         0.199428   \ninflation_crises                                        0.187930   \n\n                                 gdp_weighted_default  inflation_annual_cpi  \\\ncase                                        -0.032981              0.044762   \nyear                                        -0.054670              0.037035   \nsystemic_crisis                              0.005274              0.106452   \nexch_usd                                    -0.040726             -0.011947   \ndomestic_debt_in_default                    -0.029874              0.151832   \nsovereign_external_debt_default              0.345919              0.072609   \ngdp_weighted_default                         1.000000             -0.004535   \ninflation_annual_cpi                        -0.004535              1.000000   \nindependence                                 0.078936              0.016569   \ncurrency_crises                              0.016970              0.076590   \ninflation_crises                             0.017630              0.080060   \n\n                                 independence  currency_crises  \\\ncase                                 0.021858         0.095339   \nyear                                 0.407360         0.189390   \nsystemic_crisis                      0.147083         0.112751   \nexch_usd                             0.126034        -0.056472   \ndomestic_debt_in_default             0.109120         0.227585   \nsovereign_external_debt_default      0.228192         0.199428   \ngdp_weighted_default                 0.078936         0.016970   \ninflation_annual_cpi                 0.016569         0.076590   \nindependence                         1.000000         0.086376   \ncurrency_crises                      0.086376         1.000000   \ninflation_crises                    -0.022548         0.393376   \n\n                                 inflation_crises  \ncase                                     0.006405  \nyear                                     0.098630  \nsystemic_crisis                          0.172562  \nexch_usd                                -0.063783  \ndomestic_debt_in_default                 0.224429  \nsovereign_external_debt_default          0.187930  \ngdp_weighted_default                     0.017630  \ninflation_annual_cpi                     0.080060  \nindependence                            -0.022548  \ncurrency_crises                          0.393376  \ninflation_crises                         1.000000  ",
      "text/html": "<div>\n<style scoped>\n    .dataframe tbody tr th:only-of-type {\n        vertical-align: middle;\n    }\n\n    .dataframe tbody tr th {\n        vertical-align: top;\n    }\n\n    .dataframe thead th {\n        text-align: right;\n    }\n</style>\n<table border=\"1\" class=\"dataframe\">\n  <thead>\n    <tr style=\"text-align: right;\">\n      <th></th>\n      <th>case</th>\n      <th>year</th>\n      <th>systemic_crisis</th>\n      <th>exch_usd</th>\n      <th>domestic_debt_in_default</th>\n      <th>sovereign_external_debt_default</th>\n      <th>gdp_weighted_default</th>\n      <th>inflation_annual_cpi</th>\n      <th>independence</th>\n      <th>currency_crises</th>\n      <th>inflation_crises</th>\n    </tr>\n  </thead>\n  <tbody>\n    <tr>\n      <th>case</th>\n      <td>1.000000</td>\n      <td>0.115574</td>\n      <td>0.010991</td>\n      <td>-0.231976</td>\n      <td>0.128358</td>\n      <td>-0.039262</td>\n      <td>-0.032981</td>\n      <td>0.044762</td>\n      <td>0.021858</td>\n      <td>0.095339</td>\n      <td>0.006405</td>\n    </tr>\n    <tr>\n      <th>year</th>\n      <td>0.115574</td>\n      <td>1.000000</td>\n      <td>0.197450</td>\n      <td>0.248757</td>\n      <td>0.136828</td>\n      <td>0.271890</td>\n      <td>-0.054670</td>\n      <td>0.037035</td>\n      <td>0.407360</td>\n      <td>0.189390</td>\n      <td>0.098630</td>\n    </tr>\n    <tr>\n      <th>systemic_crisis</th>\n      <td>0.010991</td>\n      <td>0.197450</td>\n      <td>1.000000</td>\n      <td>0.202687</td>\n      <td>0.122158</td>\n      <td>0.249850</td>\n      <td>0.005274</td>\n      <td>0.106452</td>\n      <td>0.147083</td>\n      <td>0.112751</td>\n      <td>0.172562</td>\n    </tr>\n    <tr>\n      <th>exch_usd</th>\n      <td>-0.231976</td>\n      <td>0.248757</td>\n      <td>0.202687</td>\n      <td>1.000000</td>\n      <td>0.005253</td>\n      <td>0.422890</td>\n      <td>-0.040726</td>\n      <td>-0.011947</td>\n      <td>0.126034</td>\n      <td>-0.056472</td>\n      <td>-0.063783</td>\n    </tr>\n    <tr>\n      <th>domestic_debt_in_default</th>\n      <td>0.128358</td>\n      <td>0.136828</td>\n      <td>0.122158</td>\n      <td>0.005253</td>\n      <td>1.000000</td>\n      <td>0.464751</td>\n      <td>-0.029874</td>\n      <td>0.151832</td>\n      <td>0.109120</td>\n      <td>0.227585</td>\n      <td>0.224429</td>\n    </tr>\n    <tr>\n      <th>sovereign_external_debt_default</th>\n      <td>-0.039262</td>\n      <td>0.271890</td>\n      <td>0.249850</td>\n      <td>0.422890</td>\n      <td>0.464751</td>\n      <td>1.000000</td>\n      <td>0.345919</td>\n      <td>0.072609</td>\n      <td>0.228192</td>\n      <td>0.199428</td>\n      <td>0.187930</td>\n    </tr>\n    <tr>\n      <th>gdp_weighted_default</th>\n      <td>-0.032981</td>\n      <td>-0.054670</td>\n      <td>0.005274</td>\n      <td>-0.040726</td>\n      <td>-0.029874</td>\n      <td>0.345919</td>\n      <td>1.000000</td>\n      <td>-0.004535</td>\n      <td>0.078936</td>\n      <td>0.016970</td>\n      <td>0.017630</td>\n    </tr>\n    <tr>\n      <th>inflation_annual_cpi</th>\n      <td>0.044762</td>\n      <td>0.037035</td>\n      <td>0.106452</td>\n      <td>-0.011947</td>\n      <td>0.151832</td>\n      <td>0.072609</td>\n      <td>-0.004535</td>\n      <td>1.000000</td>\n      <td>0.016569</td>\n      <td>0.076590</td>\n      <td>0.080060</td>\n    </tr>\n    <tr>\n      <th>independence</th>\n      <td>0.021858</td>\n      <td>0.407360</td>\n      <td>0.147083</td>\n      <td>0.126034</td>\n      <td>0.109120</td>\n      <td>0.228192</td>\n      <td>0.078936</td>\n      <td>0.016569</td>\n      <td>1.000000</td>\n      <td>0.086376</td>\n      <td>-0.022548</td>\n    </tr>\n    <tr>\n      <th>currency_crises</th>\n      <td>0.095339</td>\n      <td>0.189390</td>\n      <td>0.112751</td>\n      <td>-0.056472</td>\n      <td>0.227585</td>\n      <td>0.199428</td>\n      <td>0.016970</td>\n      <td>0.076590</td>\n      <td>0.086376</td>\n      <td>1.000000</td>\n      <td>0.393376</td>\n    </tr>\n    <tr>\n      <th>inflation_crises</th>\n      <td>0.006405</td>\n      <td>0.098630</td>\n      <td>0.172562</td>\n      <td>-0.063783</td>\n      <td>0.224429</td>\n      <td>0.187930</td>\n      <td>0.017630</td>\n      <td>0.080060</td>\n      <td>-0.022548</td>\n      <td>0.393376</td>\n      <td>1.000000</td>\n    </tr>\n  </tbody>\n</table>\n</div>"
     },
     "execution_count": 26,
     "metadata": {},
     "output_type": "execute_result"
    }
   ],
   "source": [
    "data.corr()\n"
   ],
   "metadata": {
    "collapsed": false,
    "pycharm": {
     "name": "#%%\n"
    }
   }
  },
  {
   "cell_type": "code",
   "execution_count": 27,
   "outputs": [
    {
     "data": {
      "text/plain": "case                                0.015315\nyear                               -0.975499\nsystemic_crisis                     3.166538\nexch_usd                            3.280760\ndomestic_debt_in_default            4.724277\nsovereign_external_debt_default     1.930854\ngdp_weighted_default                7.625672\ninflation_annual_cpi               32.541834\nindependence                       -1.327277\ncurrency_crises                     2.437069\ninflation_crises                    2.211871\ndtype: float64"
     },
     "execution_count": 27,
     "metadata": {},
     "output_type": "execute_result"
    }
   ],
   "source": [
    "data.skew()"
   ],
   "metadata": {
    "collapsed": false,
    "pycharm": {
     "name": "#%%\n"
    }
   }
  },
  {
   "cell_type": "code",
   "execution_count": 30,
   "outputs": [
    {
     "data": {
      "text/plain": "Egypt                       155\nSouth Africa                114\nZimbabwe                     90\nAlgeria                      85\nAngola                       77\nTunisia                      75\nMorocco                      75\nZambia                       72\nMauritius                    68\nKenya                        67\nIvory Coast                  63\nNigeria                      60\nCentral African Republic     58\nName: country, dtype: int64"
     },
     "execution_count": 30,
     "metadata": {},
     "output_type": "execute_result"
    }
   ],
   "source": [
    "data['country'].value_counts()"
   ],
   "metadata": {
    "collapsed": false,
    "pycharm": {
     "name": "#%%\n"
    }
   }
  },
  {
   "cell_type": "code",
   "execution_count": 31,
   "outputs": [
    {
     "data": {
      "text/plain": "EGY    155\nZAF    114\nZWE     90\nDZA     85\nAGO     77\nMAR     75\nTUN     75\nZMB     72\nMUS     68\nKEN     67\nCIV     63\nNGA     60\nCAF     58\nName: cc3, dtype: int64"
     },
     "execution_count": 31,
     "metadata": {},
     "output_type": "execute_result"
    }
   ],
   "source": [
    "data['cc3'].value_counts()"
   ],
   "metadata": {
    "collapsed": false,
    "pycharm": {
     "name": "#%%\n"
    }
   }
  },
  {
   "cell_type": "code",
   "execution_count": 33,
   "outputs": [],
   "source": [
    "data = data.drop(['cc3'], axis=1)"
   ],
   "metadata": {
    "collapsed": false,
    "pycharm": {
     "name": "#%%\n"
    }
   }
  },
  {
   "cell_type": "code",
   "execution_count": 35,
   "outputs": [
    {
     "data": {
      "text/plain": "array([ 1,  2, 10, 15, 19, 35, 38, 40, 45, 56, 63, 69, 70])"
     },
     "execution_count": 35,
     "metadata": {},
     "output_type": "execute_result"
    }
   ],
   "source": [
    "data['case'].unique()"
   ],
   "metadata": {
    "collapsed": false,
    "pycharm": {
     "name": "#%%\n"
    }
   }
  },
  {
   "cell_type": "code",
   "execution_count": 36,
   "outputs": [],
   "source": [
    "x = data.drop(['banking_crisis'], axis=1)\n",
    "y = data['banking_crisis']"
   ],
   "metadata": {
    "collapsed": false,
    "pycharm": {
     "name": "#%%\n"
    }
   }
  },
  {
   "cell_type": "code",
   "execution_count": 40,
   "outputs": [],
   "source": [
    "from sklearn.preprocessing import LabelEncoder\n",
    "\n",
    "le_y = LabelEncoder()\n",
    "le_y.fit(y)\n",
    "y = le_y.transform(y)"
   ],
   "metadata": {
    "collapsed": false,
    "pycharm": {
     "name": "#%%\n"
    }
   }
  },
  {
   "cell_type": "code",
   "execution_count": 44,
   "outputs": [],
   "source": [
    "le_country = LabelEncoder()\n",
    "le_country.fit(x['country'])\n",
    "x['country'] = le_country.transform(x['country'])"
   ],
   "metadata": {
    "collapsed": false,
    "pycharm": {
     "name": "#%%\n"
    }
   }
  },
  {
   "cell_type": "code",
   "execution_count": 60,
   "outputs": [],
   "source": [
    "y = pd.DataFrame(y)"
   ],
   "metadata": {
    "collapsed": false,
    "pycharm": {
     "name": "#%%\n"
    }
   }
  },
  {
   "cell_type": "code",
   "execution_count": 56,
   "outputs": [
    {
     "data": {
      "text/plain": "       0  case  country  currency_crises  domestic_debt_in_default  exch_usd  \\\n0    NaN   NaN      NaN              NaN                       NaN       NaN   \n1    NaN   NaN      NaN              NaN                       NaN       NaN   \n2    NaN   NaN      NaN              NaN                       NaN       NaN   \n3    NaN   NaN      NaN              NaN                       NaN       NaN   \n4    NaN   NaN      NaN              NaN                       NaN       NaN   \n...   ..   ...      ...              ...                       ...       ...   \n1054 NaN   NaN      NaN              NaN                       NaN       NaN   \n1055 NaN   NaN      NaN              NaN                       NaN       NaN   \n1056 NaN   NaN      NaN              NaN                       NaN       NaN   \n1057 NaN   NaN      NaN              NaN                       NaN       NaN   \n1058 NaN   NaN      NaN              NaN                       NaN       NaN   \n\n      gdp_weighted_default  independence  inflation_annual_cpi  \\\n0                      NaN           NaN                   NaN   \n1                      NaN           NaN                   NaN   \n2                      NaN           NaN                   NaN   \n3                      NaN           NaN                   NaN   \n4                      NaN           NaN                   NaN   \n...                    ...           ...                   ...   \n1054                   NaN           NaN                   NaN   \n1055                   NaN           NaN                   NaN   \n1056                   NaN           NaN                   NaN   \n1057                   NaN           NaN                   NaN   \n1058                   NaN           NaN                   NaN   \n\n      inflation_crises  sovereign_external_debt_default  systemic_crisis  year  \n0                  NaN                              NaN              NaN   NaN  \n1                  NaN                              NaN              NaN   NaN  \n2                  NaN                              NaN              NaN   NaN  \n3                  NaN                              NaN              NaN   NaN  \n4                  NaN                              NaN              NaN   NaN  \n...                ...                              ...              ...   ...  \n1054               NaN                              NaN              NaN   NaN  \n1055               NaN                              NaN              NaN   NaN  \n1056               NaN                              NaN              NaN   NaN  \n1057               NaN                              NaN              NaN   NaN  \n1058               NaN                              NaN              NaN   NaN  \n\n[1059 rows x 13 columns]",
      "text/html": "<div>\n<style scoped>\n    .dataframe tbody tr th:only-of-type {\n        vertical-align: middle;\n    }\n\n    .dataframe tbody tr th {\n        vertical-align: top;\n    }\n\n    .dataframe thead th {\n        text-align: right;\n    }\n</style>\n<table border=\"1\" class=\"dataframe\">\n  <thead>\n    <tr style=\"text-align: right;\">\n      <th></th>\n      <th>0</th>\n      <th>case</th>\n      <th>country</th>\n      <th>currency_crises</th>\n      <th>domestic_debt_in_default</th>\n      <th>exch_usd</th>\n      <th>gdp_weighted_default</th>\n      <th>independence</th>\n      <th>inflation_annual_cpi</th>\n      <th>inflation_crises</th>\n      <th>sovereign_external_debt_default</th>\n      <th>systemic_crisis</th>\n      <th>year</th>\n    </tr>\n  </thead>\n  <tbody>\n    <tr>\n      <th>0</th>\n      <td>NaN</td>\n      <td>NaN</td>\n      <td>NaN</td>\n      <td>NaN</td>\n      <td>NaN</td>\n      <td>NaN</td>\n      <td>NaN</td>\n      <td>NaN</td>\n      <td>NaN</td>\n      <td>NaN</td>\n      <td>NaN</td>\n      <td>NaN</td>\n      <td>NaN</td>\n    </tr>\n    <tr>\n      <th>1</th>\n      <td>NaN</td>\n      <td>NaN</td>\n      <td>NaN</td>\n      <td>NaN</td>\n      <td>NaN</td>\n      <td>NaN</td>\n      <td>NaN</td>\n      <td>NaN</td>\n      <td>NaN</td>\n      <td>NaN</td>\n      <td>NaN</td>\n      <td>NaN</td>\n      <td>NaN</td>\n    </tr>\n    <tr>\n      <th>2</th>\n      <td>NaN</td>\n      <td>NaN</td>\n      <td>NaN</td>\n      <td>NaN</td>\n      <td>NaN</td>\n      <td>NaN</td>\n      <td>NaN</td>\n      <td>NaN</td>\n      <td>NaN</td>\n      <td>NaN</td>\n      <td>NaN</td>\n      <td>NaN</td>\n      <td>NaN</td>\n    </tr>\n    <tr>\n      <th>3</th>\n      <td>NaN</td>\n      <td>NaN</td>\n      <td>NaN</td>\n      <td>NaN</td>\n      <td>NaN</td>\n      <td>NaN</td>\n      <td>NaN</td>\n      <td>NaN</td>\n      <td>NaN</td>\n      <td>NaN</td>\n      <td>NaN</td>\n      <td>NaN</td>\n      <td>NaN</td>\n    </tr>\n    <tr>\n      <th>4</th>\n      <td>NaN</td>\n      <td>NaN</td>\n      <td>NaN</td>\n      <td>NaN</td>\n      <td>NaN</td>\n      <td>NaN</td>\n      <td>NaN</td>\n      <td>NaN</td>\n      <td>NaN</td>\n      <td>NaN</td>\n      <td>NaN</td>\n      <td>NaN</td>\n      <td>NaN</td>\n    </tr>\n    <tr>\n      <th>...</th>\n      <td>...</td>\n      <td>...</td>\n      <td>...</td>\n      <td>...</td>\n      <td>...</td>\n      <td>...</td>\n      <td>...</td>\n      <td>...</td>\n      <td>...</td>\n      <td>...</td>\n      <td>...</td>\n      <td>...</td>\n      <td>...</td>\n    </tr>\n    <tr>\n      <th>1054</th>\n      <td>NaN</td>\n      <td>NaN</td>\n      <td>NaN</td>\n      <td>NaN</td>\n      <td>NaN</td>\n      <td>NaN</td>\n      <td>NaN</td>\n      <td>NaN</td>\n      <td>NaN</td>\n      <td>NaN</td>\n      <td>NaN</td>\n      <td>NaN</td>\n      <td>NaN</td>\n    </tr>\n    <tr>\n      <th>1055</th>\n      <td>NaN</td>\n      <td>NaN</td>\n      <td>NaN</td>\n      <td>NaN</td>\n      <td>NaN</td>\n      <td>NaN</td>\n      <td>NaN</td>\n      <td>NaN</td>\n      <td>NaN</td>\n      <td>NaN</td>\n      <td>NaN</td>\n      <td>NaN</td>\n      <td>NaN</td>\n    </tr>\n    <tr>\n      <th>1056</th>\n      <td>NaN</td>\n      <td>NaN</td>\n      <td>NaN</td>\n      <td>NaN</td>\n      <td>NaN</td>\n      <td>NaN</td>\n      <td>NaN</td>\n      <td>NaN</td>\n      <td>NaN</td>\n      <td>NaN</td>\n      <td>NaN</td>\n      <td>NaN</td>\n      <td>NaN</td>\n    </tr>\n    <tr>\n      <th>1057</th>\n      <td>NaN</td>\n      <td>NaN</td>\n      <td>NaN</td>\n      <td>NaN</td>\n      <td>NaN</td>\n      <td>NaN</td>\n      <td>NaN</td>\n      <td>NaN</td>\n      <td>NaN</td>\n      <td>NaN</td>\n      <td>NaN</td>\n      <td>NaN</td>\n      <td>NaN</td>\n    </tr>\n    <tr>\n      <th>1058</th>\n      <td>NaN</td>\n      <td>NaN</td>\n      <td>NaN</td>\n      <td>NaN</td>\n      <td>NaN</td>\n      <td>NaN</td>\n      <td>NaN</td>\n      <td>NaN</td>\n      <td>NaN</td>\n      <td>NaN</td>\n      <td>NaN</td>\n      <td>NaN</td>\n      <td>NaN</td>\n    </tr>\n  </tbody>\n</table>\n<p>1059 rows × 13 columns</p>\n</div>"
     },
     "execution_count": 56,
     "metadata": {},
     "output_type": "execute_result"
    }
   ],
   "source": [],
   "metadata": {
    "collapsed": false,
    "pycharm": {
     "name": "#%%\n"
    }
   }
  },
  {
   "cell_type": "code",
   "execution_count": 63,
   "outputs": [],
   "source": [
    "x['banking_crisis'] = y"
   ],
   "metadata": {
    "collapsed": false,
    "pycharm": {
     "name": "#%%\n"
    }
   }
  },
  {
   "cell_type": "code",
   "execution_count": 65,
   "outputs": [],
   "source": [
    "x.sort_values(['country','year'],inplace=True)"
   ],
   "metadata": {
    "collapsed": false,
    "pycharm": {
     "name": "#%%\n"
    }
   }
  },
  {
   "cell_type": "code",
   "execution_count": 66,
   "outputs": [
    {
     "data": {
      "text/plain": "      case  country  year  systemic_crisis    exch_usd  \\\n0        1        0  1870                1    0.052264   \n1        1        0  1871                0    0.052798   \n2        1        0  1872                0    0.052274   \n3        1        0  1873                0    0.051680   \n4        1        0  1874                0    0.051308   \n...    ...      ...   ...              ...         ...   \n1054    70       12  2009                1  354.800000   \n1055    70       12  2010                0  378.200000   \n1056    70       12  2011                0  361.900000   \n1057    70       12  2012                0  361.900000   \n1058    70       12  2013                0  361.900000   \n\n      domestic_debt_in_default  sovereign_external_debt_default  \\\n0                            0                                0   \n1                            0                                0   \n2                            0                                0   \n3                            0                                0   \n4                            0                                0   \n...                        ...                              ...   \n1054                         1                                1   \n1055                         1                                1   \n1056                         1                                1   \n1057                         1                                1   \n1058                         1                                1   \n\n      gdp_weighted_default  inflation_annual_cpi  independence  \\\n0                      0.0              3.441456             0   \n1                      0.0             14.149140             0   \n2                      0.0             -3.718593             0   \n3                      0.0             11.203897             0   \n4                      0.0             -3.848561             0   \n...                    ...                   ...           ...   \n1054                   0.0             -7.670000             1   \n1055                   0.0              3.217000             1   \n1056                   0.0              4.920000             1   \n1057                   0.0              3.720000             1   \n1058                   0.0              1.632000             1   \n\n      currency_crises  inflation_crises  banking_crisis  \n0                   0                 0               0  \n1                   0                 0               1  \n2                   0                 0               1  \n3                   0                 0               1  \n4                   0                 0               1  \n...               ...               ...             ...  \n1054                1                 0               0  \n1055                0                 0               1  \n1056                0                 0               1  \n1057                0                 0               1  \n1058                0                 0               1  \n\n[1059 rows x 13 columns]",
      "text/html": "<div>\n<style scoped>\n    .dataframe tbody tr th:only-of-type {\n        vertical-align: middle;\n    }\n\n    .dataframe tbody tr th {\n        vertical-align: top;\n    }\n\n    .dataframe thead th {\n        text-align: right;\n    }\n</style>\n<table border=\"1\" class=\"dataframe\">\n  <thead>\n    <tr style=\"text-align: right;\">\n      <th></th>\n      <th>case</th>\n      <th>country</th>\n      <th>year</th>\n      <th>systemic_crisis</th>\n      <th>exch_usd</th>\n      <th>domestic_debt_in_default</th>\n      <th>sovereign_external_debt_default</th>\n      <th>gdp_weighted_default</th>\n      <th>inflation_annual_cpi</th>\n      <th>independence</th>\n      <th>currency_crises</th>\n      <th>inflation_crises</th>\n      <th>banking_crisis</th>\n    </tr>\n  </thead>\n  <tbody>\n    <tr>\n      <th>0</th>\n      <td>1</td>\n      <td>0</td>\n      <td>1870</td>\n      <td>1</td>\n      <td>0.052264</td>\n      <td>0</td>\n      <td>0</td>\n      <td>0.0</td>\n      <td>3.441456</td>\n      <td>0</td>\n      <td>0</td>\n      <td>0</td>\n      <td>0</td>\n    </tr>\n    <tr>\n      <th>1</th>\n      <td>1</td>\n      <td>0</td>\n      <td>1871</td>\n      <td>0</td>\n      <td>0.052798</td>\n      <td>0</td>\n      <td>0</td>\n      <td>0.0</td>\n      <td>14.149140</td>\n      <td>0</td>\n      <td>0</td>\n      <td>0</td>\n      <td>1</td>\n    </tr>\n    <tr>\n      <th>2</th>\n      <td>1</td>\n      <td>0</td>\n      <td>1872</td>\n      <td>0</td>\n      <td>0.052274</td>\n      <td>0</td>\n      <td>0</td>\n      <td>0.0</td>\n      <td>-3.718593</td>\n      <td>0</td>\n      <td>0</td>\n      <td>0</td>\n      <td>1</td>\n    </tr>\n    <tr>\n      <th>3</th>\n      <td>1</td>\n      <td>0</td>\n      <td>1873</td>\n      <td>0</td>\n      <td>0.051680</td>\n      <td>0</td>\n      <td>0</td>\n      <td>0.0</td>\n      <td>11.203897</td>\n      <td>0</td>\n      <td>0</td>\n      <td>0</td>\n      <td>1</td>\n    </tr>\n    <tr>\n      <th>4</th>\n      <td>1</td>\n      <td>0</td>\n      <td>1874</td>\n      <td>0</td>\n      <td>0.051308</td>\n      <td>0</td>\n      <td>0</td>\n      <td>0.0</td>\n      <td>-3.848561</td>\n      <td>0</td>\n      <td>0</td>\n      <td>0</td>\n      <td>1</td>\n    </tr>\n    <tr>\n      <th>...</th>\n      <td>...</td>\n      <td>...</td>\n      <td>...</td>\n      <td>...</td>\n      <td>...</td>\n      <td>...</td>\n      <td>...</td>\n      <td>...</td>\n      <td>...</td>\n      <td>...</td>\n      <td>...</td>\n      <td>...</td>\n      <td>...</td>\n    </tr>\n    <tr>\n      <th>1054</th>\n      <td>70</td>\n      <td>12</td>\n      <td>2009</td>\n      <td>1</td>\n      <td>354.800000</td>\n      <td>1</td>\n      <td>1</td>\n      <td>0.0</td>\n      <td>-7.670000</td>\n      <td>1</td>\n      <td>1</td>\n      <td>0</td>\n      <td>0</td>\n    </tr>\n    <tr>\n      <th>1055</th>\n      <td>70</td>\n      <td>12</td>\n      <td>2010</td>\n      <td>0</td>\n      <td>378.200000</td>\n      <td>1</td>\n      <td>1</td>\n      <td>0.0</td>\n      <td>3.217000</td>\n      <td>1</td>\n      <td>0</td>\n      <td>0</td>\n      <td>1</td>\n    </tr>\n    <tr>\n      <th>1056</th>\n      <td>70</td>\n      <td>12</td>\n      <td>2011</td>\n      <td>0</td>\n      <td>361.900000</td>\n      <td>1</td>\n      <td>1</td>\n      <td>0.0</td>\n      <td>4.920000</td>\n      <td>1</td>\n      <td>0</td>\n      <td>0</td>\n      <td>1</td>\n    </tr>\n    <tr>\n      <th>1057</th>\n      <td>70</td>\n      <td>12</td>\n      <td>2012</td>\n      <td>0</td>\n      <td>361.900000</td>\n      <td>1</td>\n      <td>1</td>\n      <td>0.0</td>\n      <td>3.720000</td>\n      <td>1</td>\n      <td>0</td>\n      <td>0</td>\n      <td>1</td>\n    </tr>\n    <tr>\n      <th>1058</th>\n      <td>70</td>\n      <td>12</td>\n      <td>2013</td>\n      <td>0</td>\n      <td>361.900000</td>\n      <td>1</td>\n      <td>1</td>\n      <td>0.0</td>\n      <td>1.632000</td>\n      <td>1</td>\n      <td>0</td>\n      <td>0</td>\n      <td>1</td>\n    </tr>\n  </tbody>\n</table>\n<p>1059 rows × 13 columns</p>\n</div>"
     },
     "execution_count": 66,
     "metadata": {},
     "output_type": "execute_result"
    }
   ],
   "source": [
    "x"
   ],
   "metadata": {
    "collapsed": false,
    "pycharm": {
     "name": "#%%\n"
    }
   }
  },
  {
   "cell_type": "code",
   "execution_count": null,
   "outputs": [],
   "source": [],
   "metadata": {
    "collapsed": false,
    "pycharm": {
     "name": "#%%\n"
    }
   }
  },
  {
   "cell_type": "code",
   "execution_count": null,
   "outputs": [],
   "source": [],
   "metadata": {
    "collapsed": false,
    "pycharm": {
     "name": "#%%\n"
    }
   }
  }
 ],
 "metadata": {
  "kernelspec": {
   "display_name": "Python 3",
   "language": "python",
   "name": "python3"
  },
  "language_info": {
   "codemirror_mode": {
    "name": "ipython",
    "version": 2
   },
   "file_extension": ".py",
   "mimetype": "text/x-python",
   "name": "python",
   "nbconvert_exporter": "python",
   "pygments_lexer": "ipython2",
   "version": "2.7.6"
  }
 },
 "nbformat": 4,
 "nbformat_minor": 0
}